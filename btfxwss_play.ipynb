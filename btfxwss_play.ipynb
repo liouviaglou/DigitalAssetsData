{
 "cells": [
  {
   "cell_type": "code",
   "execution_count": 1,
   "metadata": {},
   "outputs": [],
   "source": [
    "#https://github.com/Crypto-toolbox/btfxwss\n",
    "\n",
    "import logging\n",
    "import time\n",
    "import sys\n",
    "\n",
    "from btfxwss import BtfxWss\n",
    "    "
   ]
  },
  {
   "cell_type": "code",
   "execution_count": null,
   "metadata": {},
   "outputs": [],
   "source": [
    "# log = logging.getLogger(__name__)\n",
    "\n",
    "# fh = logging.FileHandler('test.log')\n",
    "# fh.setLevel(logging.DEBUG)\n",
    "# sh = logging.StreamHandler(sys.stdout)\n",
    "# sh.setLevel(logging.DEBUG)\n",
    "\n",
    "# log.addHandler(sh)\n",
    "# log.addHandler(fh)\n",
    "# logging.basicConfig(level=logging.DEBUG, handlers=[fh, sh])\n",
    "    "
   ]
  },
  {
   "cell_type": "code",
   "execution_count": 2,
   "metadata": {},
   "outputs": [],
   "source": [
    "wss = BtfxWss()\n",
    "wss.start()"
   ]
  },
  {
   "cell_type": "code",
   "execution_count": 3,
   "metadata": {},
   "outputs": [
    {
     "data": {
      "text/plain": [
       "True"
      ]
     },
     "execution_count": 3,
     "metadata": {},
     "output_type": "execute_result"
    }
   ],
   "source": [
    "# wss.conn.connected.is_set() "
   ]
  },
  {
   "cell_type": "code",
   "execution_count": 5,
   "metadata": {},
   "outputs": [
    {
     "data": {
      "text/plain": [
       "<btfxwss.client.BtfxWss at 0x10cb8d358>"
      ]
     },
     "execution_count": 5,
     "metadata": {},
     "output_type": "execute_result"
    }
   ],
   "source": [
    "wss"
   ]
  },
  {
   "cell_type": "code",
   "execution_count": null,
   "metadata": {},
   "outputs": [],
   "source": [
    "# while connection is not set, sleep 1 sec.\n",
    "# while not wss.conn.connected.is_set():\n",
    "#     time.sleep(1)"
   ]
  },
  {
   "cell_type": "code",
   "execution_count": 4,
   "metadata": {},
   "outputs": [
    {
     "name": "stderr",
     "output_type": "stream",
     "text": [
      "Cannot call subscribe_to_ticker() on unestablished connection!\n",
      "Cannot call subscribe_to_order_book() on unestablished connection!\n"
     ]
    }
   ],
   "source": [
    "# Subscribe to some channels\n",
    "wss.subscribe_to_ticker('BTCUSD')\n",
    "wss.subscribe_to_order_book('BTCUSD')"
   ]
  },
  {
   "cell_type": "code",
   "execution_count": null,
   "metadata": {},
   "outputs": [],
   "source": [
    "# Do something else\n",
    "t = time.time()\n",
    "while time.time() - t < 10:\n",
    "    pass\n",
    "\n",
    "# Accessing data stored in BtfxWss:\n",
    "ticker_q = wss.tickers('BTCUSD')  # returns a Queue object for the pair.\n",
    "while not ticker_q.empty():\n",
    "    print(ticker_q.get())\n",
    "\n",
    "# Unsubscribing from channels:\n",
    "wss.unsubscribe_from_ticker('BTCUSD')\n",
    "wss.unsubscribe_from_order_book('BTCUSD')\n",
    "\n",
    "# Shutting down the client:\n",
    "wss.stop()"
   ]
  },
  {
   "cell_type": "code",
   "execution_count": 6,
   "metadata": {},
   "outputs": [
    {
     "ename": "WebSocketAddressException",
     "evalue": "[Errno 8] nodename nor servname provided, or not known",
     "output_type": "error",
     "traceback": [
      "\u001b[0;31m---------------------------------------------------------------------------\u001b[0m",
      "\u001b[0;31mgaierror\u001b[0m                                  Traceback (most recent call last)",
      "\u001b[0;32m/usr/local/lib/python3.7/site-packages/websocket/_http.py\u001b[0m in \u001b[0;36m_get_addrinfo_list\u001b[0;34m(hostname, port, is_secure, proxy)\u001b[0m\n\u001b[1;32m    142\u001b[0m             addrinfo_list = socket.getaddrinfo(\n\u001b[0;32m--> 143\u001b[0;31m                 hostname, port, 0, 0, socket.SOL_TCP)\n\u001b[0m\u001b[1;32m    144\u001b[0m             \u001b[0;32mreturn\u001b[0m \u001b[0maddrinfo_list\u001b[0m\u001b[0;34m,\u001b[0m \u001b[0;32mFalse\u001b[0m\u001b[0;34m,\u001b[0m \u001b[0;32mNone\u001b[0m\u001b[0;34m\u001b[0m\u001b[0;34m\u001b[0m\u001b[0m\n",
      "\u001b[0;32m/usr/local/Cellar/python/3.7.3/Frameworks/Python.framework/Versions/3.7/lib/python3.7/socket.py\u001b[0m in \u001b[0;36mgetaddrinfo\u001b[0;34m(host, port, family, type, proto, flags)\u001b[0m\n\u001b[1;32m    747\u001b[0m     \u001b[0maddrlist\u001b[0m \u001b[0;34m=\u001b[0m \u001b[0;34m[\u001b[0m\u001b[0;34m]\u001b[0m\u001b[0;34m\u001b[0m\u001b[0;34m\u001b[0m\u001b[0m\n\u001b[0;32m--> 748\u001b[0;31m     \u001b[0;32mfor\u001b[0m \u001b[0mres\u001b[0m \u001b[0;32min\u001b[0m \u001b[0m_socket\u001b[0m\u001b[0;34m.\u001b[0m\u001b[0mgetaddrinfo\u001b[0m\u001b[0;34m(\u001b[0m\u001b[0mhost\u001b[0m\u001b[0;34m,\u001b[0m \u001b[0mport\u001b[0m\u001b[0;34m,\u001b[0m \u001b[0mfamily\u001b[0m\u001b[0;34m,\u001b[0m \u001b[0mtype\u001b[0m\u001b[0;34m,\u001b[0m \u001b[0mproto\u001b[0m\u001b[0;34m,\u001b[0m \u001b[0mflags\u001b[0m\u001b[0;34m)\u001b[0m\u001b[0;34m:\u001b[0m\u001b[0;34m\u001b[0m\u001b[0;34m\u001b[0m\u001b[0m\n\u001b[0m\u001b[1;32m    749\u001b[0m         \u001b[0maf\u001b[0m\u001b[0;34m,\u001b[0m \u001b[0msocktype\u001b[0m\u001b[0;34m,\u001b[0m \u001b[0mproto\u001b[0m\u001b[0;34m,\u001b[0m \u001b[0mcanonname\u001b[0m\u001b[0;34m,\u001b[0m \u001b[0msa\u001b[0m \u001b[0;34m=\u001b[0m \u001b[0mres\u001b[0m\u001b[0;34m\u001b[0m\u001b[0;34m\u001b[0m\u001b[0m\n",
      "\u001b[0;31mgaierror\u001b[0m: [Errno 8] nodename nor servname provided, or not known",
      "\nDuring handling of the above exception, another exception occurred:\n",
      "\u001b[0;31mWebSocketAddressException\u001b[0m                 Traceback (most recent call last)",
      "\u001b[0;32m<ipython-input-6-4926934f4958>\u001b[0m in \u001b[0;36m<module>\u001b[0;34m\u001b[0m\n\u001b[1;32m      2\u001b[0m \u001b[0;34m\u001b[0m\u001b[0m\n\u001b[1;32m      3\u001b[0m \u001b[0;32mfrom\u001b[0m \u001b[0mwebsocket\u001b[0m \u001b[0;32mimport\u001b[0m \u001b[0mcreate_connection\u001b[0m\u001b[0;34m\u001b[0m\u001b[0;34m\u001b[0m\u001b[0m\n\u001b[0;32m----> 4\u001b[0;31m \u001b[0mws\u001b[0m \u001b[0;34m=\u001b[0m \u001b[0mcreate_connection\u001b[0m\u001b[0;34m(\u001b[0m\u001b[0;34m\"wss://api2.bitfinex.com:3000/ws\"\u001b[0m\u001b[0;34m)\u001b[0m\u001b[0;34m\u001b[0m\u001b[0;34m\u001b[0m\u001b[0m\n\u001b[0m\u001b[1;32m      5\u001b[0m \u001b[0;31m#ws.connect(\"wss://api2.bitfinex.com:3000/ws\")\u001b[0m\u001b[0;34m\u001b[0m\u001b[0;34m\u001b[0m\u001b[0;34m\u001b[0m\u001b[0m\n\u001b[1;32m      6\u001b[0m ws.send(json.dumps({\n",
      "\u001b[0;32m/usr/local/lib/python3.7/site-packages/websocket/_core.py\u001b[0m in \u001b[0;36mcreate_connection\u001b[0;34m(url, timeout, class_, **options)\u001b[0m\n\u001b[1;32m    512\u001b[0m                      skip_utf8_validation=skip_utf8_validation, **options)\n\u001b[1;32m    513\u001b[0m     \u001b[0mwebsock\u001b[0m\u001b[0;34m.\u001b[0m\u001b[0msettimeout\u001b[0m\u001b[0;34m(\u001b[0m\u001b[0mtimeout\u001b[0m \u001b[0;32mif\u001b[0m \u001b[0mtimeout\u001b[0m \u001b[0;32mis\u001b[0m \u001b[0;32mnot\u001b[0m \u001b[0;32mNone\u001b[0m \u001b[0;32melse\u001b[0m \u001b[0mgetdefaulttimeout\u001b[0m\u001b[0;34m(\u001b[0m\u001b[0;34m)\u001b[0m\u001b[0;34m)\u001b[0m\u001b[0;34m\u001b[0m\u001b[0;34m\u001b[0m\u001b[0m\n\u001b[0;32m--> 514\u001b[0;31m     \u001b[0mwebsock\u001b[0m\u001b[0;34m.\u001b[0m\u001b[0mconnect\u001b[0m\u001b[0;34m(\u001b[0m\u001b[0murl\u001b[0m\u001b[0;34m,\u001b[0m \u001b[0;34m**\u001b[0m\u001b[0moptions\u001b[0m\u001b[0;34m)\u001b[0m\u001b[0;34m\u001b[0m\u001b[0;34m\u001b[0m\u001b[0m\n\u001b[0m\u001b[1;32m    515\u001b[0m     \u001b[0;32mreturn\u001b[0m \u001b[0mwebsock\u001b[0m\u001b[0;34m\u001b[0m\u001b[0;34m\u001b[0m\u001b[0m\n",
      "\u001b[0;32m/usr/local/lib/python3.7/site-packages/websocket/_core.py\u001b[0m in \u001b[0;36mconnect\u001b[0;34m(self, url, **options)\u001b[0m\n\u001b[1;32m    221\u001b[0m         \u001b[0mself\u001b[0m\u001b[0;34m.\u001b[0m\u001b[0msock_opt\u001b[0m\u001b[0;34m.\u001b[0m\u001b[0mtimeout\u001b[0m \u001b[0;34m=\u001b[0m \u001b[0moptions\u001b[0m\u001b[0;34m.\u001b[0m\u001b[0mget\u001b[0m\u001b[0;34m(\u001b[0m\u001b[0;34m'timeout'\u001b[0m\u001b[0;34m,\u001b[0m \u001b[0mself\u001b[0m\u001b[0;34m.\u001b[0m\u001b[0msock_opt\u001b[0m\u001b[0;34m.\u001b[0m\u001b[0mtimeout\u001b[0m\u001b[0;34m)\u001b[0m\u001b[0;34m\u001b[0m\u001b[0;34m\u001b[0m\u001b[0m\n\u001b[1;32m    222\u001b[0m         self.sock, addrs = connect(url, self.sock_opt, proxy_info(**options),\n\u001b[0;32m--> 223\u001b[0;31m                                    options.pop('socket', None))\n\u001b[0m\u001b[1;32m    224\u001b[0m \u001b[0;34m\u001b[0m\u001b[0m\n\u001b[1;32m    225\u001b[0m         \u001b[0;32mtry\u001b[0m\u001b[0;34m:\u001b[0m\u001b[0;34m\u001b[0m\u001b[0;34m\u001b[0m\u001b[0m\n",
      "\u001b[0;32m/usr/local/lib/python3.7/site-packages/websocket/_http.py\u001b[0m in \u001b[0;36mconnect\u001b[0;34m(url, options, proxy, socket)\u001b[0m\n\u001b[1;32m    111\u001b[0m \u001b[0;34m\u001b[0m\u001b[0m\n\u001b[1;32m    112\u001b[0m     addrinfo_list, need_tunnel, auth = _get_addrinfo_list(\n\u001b[0;32m--> 113\u001b[0;31m         hostname, port, is_secure, proxy)\n\u001b[0m\u001b[1;32m    114\u001b[0m     \u001b[0;32mif\u001b[0m \u001b[0;32mnot\u001b[0m \u001b[0maddrinfo_list\u001b[0m\u001b[0;34m:\u001b[0m\u001b[0;34m\u001b[0m\u001b[0;34m\u001b[0m\u001b[0m\n\u001b[1;32m    115\u001b[0m         raise WebSocketException(\n",
      "\u001b[0;32m/usr/local/lib/python3.7/site-packages/websocket/_http.py\u001b[0m in \u001b[0;36m_get_addrinfo_list\u001b[0;34m(hostname, port, is_secure, proxy)\u001b[0m\n\u001b[1;32m    152\u001b[0m             \u001b[0;32mreturn\u001b[0m \u001b[0maddrinfo_list\u001b[0m\u001b[0;34m,\u001b[0m \u001b[0;32mTrue\u001b[0m\u001b[0;34m,\u001b[0m \u001b[0mpauth\u001b[0m\u001b[0;34m\u001b[0m\u001b[0;34m\u001b[0m\u001b[0m\n\u001b[1;32m    153\u001b[0m     \u001b[0;32mexcept\u001b[0m \u001b[0msocket\u001b[0m\u001b[0;34m.\u001b[0m\u001b[0mgaierror\u001b[0m \u001b[0;32mas\u001b[0m \u001b[0me\u001b[0m\u001b[0;34m:\u001b[0m\u001b[0;34m\u001b[0m\u001b[0;34m\u001b[0m\u001b[0m\n\u001b[0;32m--> 154\u001b[0;31m         \u001b[0;32mraise\u001b[0m \u001b[0mWebSocketAddressException\u001b[0m\u001b[0;34m(\u001b[0m\u001b[0me\u001b[0m\u001b[0;34m)\u001b[0m\u001b[0;34m\u001b[0m\u001b[0;34m\u001b[0m\u001b[0m\n\u001b[0m\u001b[1;32m    155\u001b[0m \u001b[0;34m\u001b[0m\u001b[0m\n\u001b[1;32m    156\u001b[0m \u001b[0;34m\u001b[0m\u001b[0m\n",
      "\u001b[0;31mWebSocketAddressException\u001b[0m: [Errno 8] nodename nor servname provided, or not known"
     ]
    }
   ],
   "source": [
    "import json\n",
    "\n",
    "from websocket import create_connection\n",
    "ws = create_connection(\"wss://api2.bitfinex.com:3000/ws\")\n",
    "#ws.connect(\"wss://api2.bitfinex.com:3000/ws\")\n",
    "ws.send(json.dumps({\n",
    "    \"event\": \"subscribe\",\n",
    "    \"channel\": \"book\",\n",
    "    \"pair\": \"BTCUSD\",\n",
    "    \"prec\": \"P0\"\n",
    "}))\n",
    "\n",
    "\n",
    "while True:\n",
    "    result = ws.recv()\n",
    "    result = json.loads(result)\n",
    "    print (\"Received '%s'\" % result)\n",
    "\n",
    "ws.close()"
   ]
  },
  {
   "cell_type": "code",
   "execution_count": null,
   "metadata": {},
   "outputs": [],
   "source": []
  }
 ],
 "metadata": {
  "kernelspec": {
   "display_name": "Python 3",
   "language": "python",
   "name": "python3"
  },
  "language_info": {
   "codemirror_mode": {
    "name": "ipython",
    "version": 3
   },
   "file_extension": ".py",
   "mimetype": "text/x-python",
   "name": "python",
   "nbconvert_exporter": "python",
   "pygments_lexer": "ipython3",
   "version": "3.7.3"
  }
 },
 "nbformat": 4,
 "nbformat_minor": 2
}
